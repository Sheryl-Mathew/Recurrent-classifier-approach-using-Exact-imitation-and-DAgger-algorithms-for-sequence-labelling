{
 "cells": [
  {
   "cell_type": "code",
   "execution_count": 1,
   "metadata": {},
   "outputs": [],
   "source": [
    "import numpy as np\n",
    "import pandas as pd\n",
    "from string import ascii_lowercase \n",
    "from itertools import product\n",
    "import random\n",
    "from sklearn.metrics import hamming_loss\n",
    "from sklearn.linear_model import Perceptron as perceptron\n",
    "from sklearn.model_selection import train_test_split\n",
    "import matplotlib.pyplot as plt\n",
    "from math import pow"
   ]
  },
  {
   "cell_type": "code",
   "execution_count": 2,
   "metadata": {},
   "outputs": [],
   "source": [
    "def readFile(file_name):\n",
    "    input_values = []\n",
    "    temp_array = []\n",
    "    f = open(file_name)\n",
    "    for line in f:\n",
    "        temp_array.append(line)\n",
    "        if line == '\\t\\t\\t\\n':\n",
    "            input_values.append(temp_array)\n",
    "            temp_array = []\n",
    "    return input_values"
   ]
  },
  {
   "cell_type": "code",
   "execution_count": 3,
   "metadata": {},
   "outputs": [],
   "source": [
    "def splitInputOutputIndividualLine(file):\n",
    "    x_values = []\n",
    "    y_values = []\n",
    "    split_values_array = []\n",
    "    for i in range(len(file)-1):\n",
    "        array_input = np.asarray(file[i])\n",
    "        string_input = np.array2string(array_input)\n",
    "        split_values_array = string_input.split('\\\\t')\n",
    "        x = split_values_array[1].replace('im','')\n",
    "        y = split_values_array[2]\n",
    "        x_values.append(x)\n",
    "        y_values.append(y)\n",
    "    return x_values, y_values"
   ]
  },
  {
   "cell_type": "code",
   "execution_count": 4,
   "metadata": {},
   "outputs": [],
   "source": [
    "def inputOutputFromFile(file_name):\n",
    "    x_array = []\n",
    "    y_array = []\n",
    "    input_values = readFile(file_name)\n",
    "    for i in range(len(input_values)):\n",
    "        individual_line_single_input = [line.split(\",\") for line in input_values[i]]\n",
    "        x, y = splitInputOutputIndividualLine(individual_line_single_input)\n",
    "        y = [element.lower() for element in y]\n",
    "        x_array.append(x)\n",
    "        y_array.append(y)\n",
    "    return x_array, y_array"
   ]
  },
  {
   "cell_type": "code",
   "execution_count": 5,
   "metadata": {},
   "outputs": [],
   "source": [
    "def addTwoNumbers(input1,input2):\n",
    "    c = [a + b for a, b in zip(input1, input2)]\n",
    "    return np.asarray(c)"
   ]
  },
  {
   "cell_type": "code",
   "execution_count": 6,
   "metadata": {},
   "outputs": [],
   "source": [
    "def subtractTwoNumbers(input1,input2):\n",
    "    c = [a - b for a, b in zip(input1, input2)]\n",
    "    return np.asarray(c)"
   ]
  },
  {
   "cell_type": "code",
   "execution_count": 7,
   "metadata": {},
   "outputs": [],
   "source": [
    "def string2intArray(x):\n",
    "    convert_to_list = list(x)\n",
    "    string_to_int = [int(i) for i in convert_to_list]\n",
    "    return np.asarray(string_to_int)"
   ]
  },
  {
   "cell_type": "code",
   "execution_count": 8,
   "metadata": {},
   "outputs": [],
   "source": [
    "#Returns all valid combinations of given word for specificed pairinf\n",
    "def possibleCombinationsOfGivenWordForNPairing(word_array, n):\n",
    "    word = ''.join(word_array)\n",
    "    #Take the relevant substrings\n",
    "    word_substrings = []\n",
    "    for i in range(n):\n",
    "        string = word[i:len(word)]\n",
    "        word_substrings.append(string)\n",
    "   \n",
    "    #Split a substring into individual characters\n",
    "    word_substrings_character = []\n",
    "    for i in range(len(word_substrings)):\n",
    "        split_words = list(word_substrings[i]) \n",
    "        word_substrings_character.append(split_words)\n",
    "        \n",
    "    #combine all the elements in ith index\n",
    "    combination_array = list(zip(*word_substrings_character))\n",
    "    possible_combinations = [''.join(combination_array[i]) for i in range(len(combination_array))]   \n",
    "    return possible_combinations"
   ]
  },
  {
   "cell_type": "code",
   "execution_count": 9,
   "metadata": {},
   "outputs": [],
   "source": [
    "def nPairWiseFeatureVector(word_array, n, features_size):\n",
    "    features = [0] * features_size\n",
    "    possible_labels = []\n",
    "\n",
    "    for combination in product(ascii_lowercase, repeat = n): #n=2 aa ab... n=3 aaa aab...\n",
    "        possible_labels.append(''.join(combination))   \n",
    "\n",
    "    possible_word_combinations = possibleCombinationsOfGivenWordForNPairing(word_array, n) #n=2 om mm... n=3 omm mma...\n",
    "\n",
    "    for word_combo in possible_word_combinations: #Replace 1 in the array whereever we see the word combos from above\n",
    "        index = possible_labels.index(word_combo)\n",
    "        features[index] = 1\n",
    "        \n",
    "    return features"
   ]
  },
  {
   "cell_type": "code",
   "execution_count": 10,
   "metadata": {},
   "outputs": [],
   "source": [
    "def unaryFeatures(x, y, possible_labels, number_of_possible_labels):\n",
    "    unary_features_size = len(x[0]) * number_of_possible_labels\n",
    "    unary_features = [0] * unary_features_size\n",
    "    unary_features_split = np.array_split(unary_features, number_of_possible_labels)\n",
    "    for j in range(len(y)):\n",
    "        input_value = x[j]\n",
    "        label = y[j] \n",
    "        index_of_letter = possible_labels.find(label)\n",
    "        temporay = unary_features_split[index_of_letter]\n",
    "        if np.all(temporay == 0): #Check if array is having only zeros or not\n",
    "            unary_features_split[index_of_letter] = string2intArray(input_value) #Add the new array to it \n",
    "        else: #Add the existing binary valyes with the new binary values\n",
    "            unary_features_split[index_of_letter] = addTwoNumbers(temporay, string2intArray(input_value))\n",
    "    unary_features = np.concatenate(unary_features_split)\n",
    "    unary_features = list(unary_features)\n",
    "    return unary_features"
   ]
  },
  {
   "cell_type": "code",
   "execution_count": 11,
   "metadata": {},
   "outputs": [],
   "source": [
    "def pairWiseFeatures(number_of_possible_labels, y):\n",
    "    pairwise_features_size = number_of_possible_labels ** 2 # Eg: 26^2 if n=2\n",
    "    pairwise_features = nPairWiseFeatureVector(y, 2, pairwise_features_size)\n",
    "    return pairwise_features"
   ]
  },
  {
   "cell_type": "code",
   "execution_count": 12,
   "metadata": {},
   "outputs": [],
   "source": [
    "def tripleFeatures(number_of_possible_labels, y):\n",
    "    triple_features_size = number_of_possible_labels ** 3 # Eg: 26^3 if n=3\n",
    "    triple_features = nPairWiseFeatureVector(y, 3, triple_features_size)\n",
    "    return triple_features"
   ]
  },
  {
   "cell_type": "code",
   "execution_count": 13,
   "metadata": {},
   "outputs": [],
   "source": [
    "def quadrupleFeatures(number_of_possible_labels, y):\n",
    "    quadruple_features_size = number_of_possible_labels ** 4 # Eg: 26^3 if n=3\n",
    "    quadruple_features = nPairWiseFeatureVector(y, 4, quadruple_features_size)\n",
    "    return quadruple_features"
   ]
  },
  {
   "cell_type": "code",
   "execution_count": 14,
   "metadata": {},
   "outputs": [],
   "source": [
    "def returnSizeBasedOnFeatures(x, number_of_possible_labels, n):\n",
    "    if n==1:\n",
    "        return len(x[0][0]) * number_of_possible_labels\n",
    "    elif n==2:\n",
    "        return len(x[0][0]) * number_of_possible_labels + number_of_possible_labels**2\n",
    "    elif n==3:\n",
    "        return len(x[0][0]) * number_of_possible_labels + number_of_possible_labels**2 + number_of_possible_labels**3\n",
    "    else:\n",
    "        return len(x[0][0]) * number_of_possible_labels + number_of_possible_labels**2 + number_of_possible_labels**3 + number_of_possible_labels**4"
   ]
  },
  {
   "cell_type": "code",
   "execution_count": 15,
   "metadata": {},
   "outputs": [],
   "source": [
    "def featureFunction(n, x, y, possible_labels, number_of_possible_labels):\n",
    "    if n==1:\n",
    "        return unaryFeatures(x, y, possible_labels, number_of_possible_labels)\n",
    "    elif n==2:\n",
    "        return unaryFeatures(x, y, possible_labels, number_of_possible_labels) + pairWiseFeatures(number_of_possible_labels, y)\n",
    "    elif n==3:\n",
    "        return unaryFeatures(x, y, possible_labels, number_of_possible_labels) + pairWiseFeatures(number_of_possible_labels, y) + tripleFeatures(number_of_possible_labels, y)\n",
    "    else:\n",
    "        return unaryFeatures(x, y, possible_labels, number_of_possible_labels) + pairWiseFeatures(number_of_possible_labels, y) + tripleFeatures(number_of_possible_labels, y) + quadrupleFeatures(number_of_possible_labels, y)"
   ]
  },
  {
   "cell_type": "code",
   "execution_count": 56,
   "metadata": {},
   "outputs": [],
   "source": [
    "def plot_error_curve(losses, type_of_plot, save_file_name):\n",
    "    colors = ['red', 'green', 'blue', 'orange', 'pink', 'yellow']\n",
    "    labels = ['beta = 0.5', 'beta = 0.6', 'beta = 0.7', 'beta = 0.8', 'beta = 0.9', 'beta = 1']\n",
    "    iterations = [1, 2, 3, 4, 5]\n",
    "    for i in range(6):\n",
    "        plt.plot(iterations, losses[i], color = colors[i], marker='o', linestyle='solid', label = labels[i] )\n",
    "\n",
    "    plt.xlabel('Number of Iterations')\n",
    "    plt.ylabel('Loss')\n",
    "    plt.title(type_of_plot)\n",
    "    plt.legend()\n",
    "    plt.savefig(save_file_name)\n",
    "    plt.show()"
   ]
  },
  {
   "cell_type": "code",
   "execution_count": 57,
   "metadata": {},
   "outputs": [],
   "source": [
    "def plot_accuracy_curve(accuracies, type_of_plot, save_file_name):\n",
    "    colors = ['red', 'green', 'blue', 'orange', 'pink', 'yellow']\n",
    "    labels = ['beta = 0.5', 'beta = 0.6', 'beta = 0.7', 'beta = 0.8', 'beta = 0.9', 'beta = 1']\n",
    "    iterations = [1, 2, 3, 4, 5]\n",
    "    for i in range(6):\n",
    "        plt.plot(iterations, accuracies[i], color = colors[i], marker='o', linestyle='solid', label = labels[i] )\n",
    "\n",
    "    plt.xlabel('Number of Iterations')\n",
    "    plt.ylabel('Accuracy')\n",
    "    plt.title(type_of_plot)\n",
    "    plt.legend()\n",
    "    plt.show()\n",
    "    plt.savefig(save_file_name)"
   ]
  },
  {
   "cell_type": "code",
   "execution_count": 52,
   "metadata": {},
   "outputs": [],
   "source": [
    "def plot_error_curve_test(losses, type_of_plot, save_file_name):\n",
    "    iterations = [0.5, 0.6, 0.7, 0.8, 0.9, 1]\n",
    "    for i in range(6):\n",
    "        plt.plot(iterations, losses)\n",
    "    plt.xlabel('Beta values')\n",
    "    plt.ylabel('Loss')\n",
    "    plt.title(type_of_plot)\n",
    "    plt.savefig(save_file_name)\n",
    "    plt.show()"
   ]
  },
  {
   "cell_type": "code",
   "execution_count": 53,
   "metadata": {},
   "outputs": [],
   "source": [
    "def plot_accuracy_curve_test(accuracies, type_of_plot, save_file_name):\n",
    "    iterations = [0.5, 0.6, 0.7, 0.8, 0.9, 1]\n",
    "    for i in range(6):\n",
    "        plt.plot(iterations, accuracies)\n",
    "    plt.xlabel('Beta values')\n",
    "    plt.ylabel('Loss')\n",
    "    plt.title(type_of_plot)\n",
    "    plt.savefig(save_file_name)\n",
    "    plt.show()"
   ]
  },
  {
   "cell_type": "code",
   "execution_count": 19,
   "metadata": {},
   "outputs": [],
   "source": [
    "def getHammingScores(y_pred, y_true):\n",
    "    losses = []\n",
    "    accuracies = []\n",
    "    for index in range(len(y_pred)):\n",
    "        loss = hamming_loss(y_true[index], y_pred[index])\n",
    "        accuracy = 1 - loss\n",
    "        losses.append(loss)\n",
    "        accuracies.append(accuracy)\n",
    "    return sum(losses)/float(len(y_pred)), sum(accuracies)/float(len(y_pred))"
   ]
  },
  {
   "cell_type": "code",
   "execution_count": 20,
   "metadata": {},
   "outputs": [],
   "source": [
    "def addExamples(x, y):\n",
    "    L = []\n",
    "    for example_index in range(len(x)):\n",
    "        for t in range(len(y[example_index])):\n",
    "            y_partital_value = y[example_index][:t]\n",
    "            if t==0:\n",
    "                y_partital_value = [secure_random.choice(possible_labels)]\n",
    "            feature_function = featureFunction(2, x[example_index], y_partital_value, possible_labels, number_of_possible_labels)\n",
    "            L.append((feature_function, y[example_index][t]))\n",
    "    random.shuffle(L)\n",
    "    return L"
   ]
  },
  {
   "cell_type": "code",
   "execution_count": 21,
   "metadata": {},
   "outputs": [],
   "source": [
    "def imitation_learning_training(x, y):\n",
    "    L = addExamples(x, y)\n",
    "    x_classifier = [x[0] for x in L]\n",
    "    y_classifier = [y[1] for y in L]\n",
    "    classifier = perceptron(max_iter = 100)\n",
    "    classifier.fit(x_classifier, y_classifier)\n",
    "    accuracy = classifier.score(x_classifier, y_classifier)\n",
    "    loss = 1 - accuracy\n",
    "    return accuracy, loss, classifier"
   ]
  },
  {
   "cell_type": "code",
   "execution_count": 22,
   "metadata": {},
   "outputs": [],
   "source": [
    "def testing(x, y, classifier):\n",
    "    y_true = []\n",
    "    y_pred_construction = []\n",
    "    y_pred_oracle = []\n",
    "    for example_index in range(len(x)):\n",
    "        y_partial_construction = []\n",
    "        y_partial_oracle = []\n",
    "        for t in range(len(y[example_index])):\n",
    "            y_optimal = y[example_index][:t]\n",
    "            if t == 0:\n",
    "                y_rand = [secure_random.choice(possible_labels)]\n",
    "                y_partial_construction = y_rand\n",
    "                y_partial_oracle = y_rand\n",
    "            if t == 1:\n",
    "\n",
    "                y_partial_construction = [y_partial_construction[1]]\n",
    "                y_partial_oracle = [y_partial_oracle[1]]\n",
    "\n",
    "            feature_function_construction = featureFunction(2, x[example_index], y_partial_construction, possible_labels, number_of_possible_labels)\n",
    "            y_hat_construction = classifier.predict([feature_function_construction])[0]\n",
    "            y_partial_construction.append(y_hat_construction)\n",
    "\n",
    "            feature_function_oracle = featureFunction(2, x[example_index], y_optimal, possible_labels, number_of_possible_labels)\n",
    "            y_hat_oracle = classifier.predict([feature_function_oracle])[0]\n",
    "            y_partial_oracle.append(y_hat_oracle)\n",
    "        \n",
    "        y_true.append(y[example_index])\n",
    "        y_pred_construction.append(y_partial_construction)\n",
    "        y_pred_oracle.append(y_partial_oracle)\n",
    "     \n",
    "    recurrent_loss , recurrent_accuracy = getHammingScores(y_pred_construction, y_true)\n",
    "    oracle_loss , oracle_accuracy = getHammingScores(y_pred_oracle, y_true)\n",
    "        \n",
    "    return recurrent_loss , recurrent_accuracy, oracle_loss , oracle_accuracy"
   ]
  },
  {
   "cell_type": "code",
   "execution_count": 43,
   "metadata": {},
   "outputs": [],
   "source": [
    "def dagger_algorithm(x, y, beta_value):\n",
    "    x_train, x_val, y_train, y_val = train_test_split(x, y, test_size = 0.30)\n",
    "    L = addExamples(x_train, y_train)\n",
    "    dmax = 5\n",
    "    h_history = []\n",
    "    recurrent_loss_history = [] \n",
    "    recurrent_accuracy_history = []\n",
    "    classifier = perceptron(max_iter = 50)\n",
    "    \n",
    "    for j in range(dmax):\n",
    "        beta = pow(beta_value, j + 1)\n",
    "        if secure_random.random() < beta:\n",
    "            h_current = \"oracle\"\n",
    "        else:\n",
    "            h_current = \"classifier\"\n",
    "            x_classifier = [x[0] for x in L]\n",
    "            y_classifier = [y[1] for y in L]\n",
    "            classifier.fit(x_classifier, y_classifier)\n",
    "        \n",
    "        y_true = []\n",
    "        y_pred_construction = []\n",
    "        for example_index in range(len(x_train)):\n",
    "            y_partial_construction = []\n",
    "            for t in range(len(y_train[example_index])):\n",
    "                if t == 0:\n",
    "                    y_partial_construction = [secure_random.choice(possible_labels)]\n",
    "                if t == 1:\n",
    "                    y_partial_construction = [y_partial_construction[1]]\n",
    "\n",
    "                feature_function_construction = featureFunction(2, x_train[example_index], y_partial_construction, \n",
    "                                                                possible_labels, number_of_possible_labels)   \n",
    "\n",
    "                if(h_current == \"oracle\"):\n",
    "                    current_prediction = y_train[example_index][t]\n",
    "                else:\n",
    "                    current_prediction = classifier.predict([feature_function_construction])[0]\n",
    "\n",
    "                oracle_prediction = y_train[example_index][t]\n",
    "\n",
    "                if current_prediction ==  oracle_prediction:\n",
    "                    L.append((feature_function_construction, oracle_prediction))\n",
    "\n",
    "                y_partial_construction.append(current_prediction)\n",
    "\n",
    "            y_true.append(y_train[example_index])\n",
    "            y_pred_construction.append(y_partial_construction)\n",
    "        \n",
    "        recurrent_loss , recurrent_accuracy = getHammingScores(y_pred_construction, y_true)\n",
    "        recurrent_loss_history.append(recurrent_loss) \n",
    "        recurrent_accuracy_history.append(recurrent_accuracy)\n",
    "\n",
    "        if h_current == \"classifier\":\n",
    "            h_history.append(classifier)\n",
    "\n",
    "    accuracy = -1\n",
    "    if len(h_history) == 0:\n",
    "        x_classifier = [x[0] for x in L]\n",
    "        y_classifier = [y[1] for y in L]\n",
    "        classifier.fit(x_classifier, y_classifier)\n",
    "        h_best = classifier\n",
    "    else:\n",
    "        for h in h_history:\n",
    "            _,val_accuracy,_,_ = testing(x_val, y_val, h)\n",
    "            if val_accuracy >= accuracy:\n",
    "                accuracy = val_accuracy\n",
    "                h_best = h\n",
    "                \n",
    "    return  recurrent_loss_history, recurrent_accuracy_history, h_best   \n",
    "                 "
   ]
  },
  {
   "cell_type": "code",
   "execution_count": 44,
   "metadata": {},
   "outputs": [],
   "source": [
    "def dagger_beta_values(x_train, y_train, x_test, y_test):\n",
    "    beta_value = [0.5, 0.6, 0.7, 0.8, 0.9, 1]\n",
    "    recurrent_loss_train_array = []\n",
    "    recurrent_accuracy_train_array = []\n",
    "    recurrent_loss_test_array = []\n",
    "    recurrent_accuracy_test_array = []\n",
    "    \n",
    "    for beta in beta_value:\n",
    "        \n",
    "        recurrent_loss_train, recurrent_accuracy_train, h_best = dagger_algorithm(x_train, y_train, beta)\n",
    "        recurrent_loss_test, recurrent_accuracy_test,_,_ = testing(x_test, y_test, h_best)\n",
    "        \n",
    "        recurrent_loss_train_array.append(recurrent_loss_train)\n",
    "        recurrent_accuracy_train_array.append(recurrent_accuracy_train)\n",
    "        recurrent_loss_test_array.append(recurrent_loss_test)\n",
    "        recurrent_accuracy_test_array.append(recurrent_accuracy_test)\n",
    "    \n",
    "    return recurrent_loss_train_array, recurrent_accuracy_train_array, recurrent_loss_test_array, recurrent_accuracy_test_array"
   ]
  },
  {
   "cell_type": "code",
   "execution_count": 45,
   "metadata": {},
   "outputs": [],
   "source": [
    "file_name_train = \"ocr_fold0_sm_train.txt\"\n",
    "x_train, y_train = inputOutputFromFile(file_name_train)\n",
    "file_name_test = \"ocr_fold0_sm_test.txt\"\n",
    "x_test, y_test = inputOutputFromFile(file_name_test)"
   ]
  },
  {
   "cell_type": "code",
   "execution_count": 46,
   "metadata": {},
   "outputs": [],
   "source": [
    "secure_random = random.SystemRandom()\n",
    "possible_labels = ascii_lowercase\n",
    "number_of_possible_labels = 26"
   ]
  },
  {
   "cell_type": "code",
   "execution_count": 26,
   "metadata": {},
   "outputs": [],
   "source": [
    "#Exact Imitation Learning\n",
    "train_accuracy_imitation, train_loss_imitation, classifier_imitation = imitation_learning_training(x_train, y_train)\n",
    "recurrent_loss_imitation, recurrent_accuracy_imitation, oracle_loss_imitation, oracle_accuracy_imitation = testing(x_test, y_test, classifier_imitation)"
   ]
  },
  {
   "cell_type": "code",
   "execution_count": 28,
   "metadata": {},
   "outputs": [],
   "source": [
    "f = open('ocr_output.txt', 'w')\n",
    "print(\"OCR Exact Imitation Learning Results:\\n\", file=f)\n",
    "print(\"Training:\", file=f)\n",
    "print(\"\\t Accuracy:\", train_accuracy_imitation, file=f)\n",
    "print(\"\\t Loss:\", train_loss_imitation, file=f)\n",
    "print(file=f)\n",
    "print(\"Testing:\", file=f)\n",
    "print(\"\\t Recurrent Accuracy:\", recurrent_accuracy_imitation, file=f)\n",
    "print(\"\\t Recurrent Loss:\", recurrent_loss_imitation, file=f)\n",
    "print(\"\\t Oracle Accuracy:\", oracle_accuracy_imitation, file=f)\n",
    "print(\"\\t Oracle Loss:\", oracle_loss_imitation, file=f)\n",
    "f.close()"
   ]
  },
  {
   "cell_type": "code",
   "execution_count": 47,
   "metadata": {},
   "outputs": [],
   "source": [
    "x_train = x_train[0:100]\n",
    "y_train = y_train[0:100]"
   ]
  },
  {
   "cell_type": "code",
   "execution_count": 48,
   "metadata": {},
   "outputs": [
    {
     "name": "stdout",
     "output_type": "stream",
     "text": [
      "0.5\n",
      "0.6\n",
      "0.7\n",
      "0.8\n",
      "0.9\n",
      "1\n"
     ]
    }
   ],
   "source": [
    "#Dagger\n",
    "recurrent_loss_train_array, recurrent_accuracy_train_array, recurrent_loss_test_array, recurrent_accuracy_test_array = dagger_beta_values(x_train, y_train, x_test, y_test)"
   ]
  },
  {
   "cell_type": "code",
   "execution_count": 58,
   "metadata": {},
   "outputs": [
    {
     "data": {
      "image/png": "[encoded data removed]",
      "text/plain": [
       "<Figure size 432x288 with 1 Axes>"
      ]
     },
     "metadata": {
      "needs_background": "light"
     },
     "output_type": "display_data"
    },
    {
     "data": {
      "image/png": "[encoded data removed]",
      "text/plain": [
       "<Figure size 432x288 with 1 Axes>"
      ]
     },
     "metadata": {
      "needs_background": "light"
     },
     "output_type": "display_data"
    }
   ],
   "source": [
    "plot_accuracy_curve(recurrent_accuracy_train_array, \"Train: Recurrent Accuracy Curve\", \"train_recur_acc1.png\")\n",
    "plot_error_curve(recurrent_loss_train_array, \"Train: Recurrent Loss Curve\", \"train_recur_loss1.png\")"
   ]
  },
  {
   "cell_type": "code",
   "execution_count": 59,
   "metadata": {},
   "outputs": [
    {
     "data": {
      "image/png": "[encoded data removed]",
      "text/plain": [
       "<Figure size 432x288 with 1 Axes>"
      ]
     },
     "metadata": {
      "needs_background": "light"
     },
     "output_type": "display_data"
    },
    {
     "data": {
      "image/png": "[encoded data removed]",
      "text/plain": [
       "<Figure size 432x288 with 1 Axes>"
      ]
     },
     "metadata": {
      "needs_background": "light"
     },
     "output_type": "display_data"
    }
   ],
   "source": [
    "plot_accuracy_curve_test(recurrent_accuracy_test_array, \"Test: Recurrent Accuracy Curve\", \"test_recur_acc1.png\")\n",
    "plot_error_curve_test(recurrent_loss_test_array, \"Test: Recurrent Loss Curve\", \"test_recur_loss1.png\")"
   ]
  },
  {
   "cell_type": "code",
   "execution_count": null,
   "metadata": {},
   "outputs": [],
   "source": []
  }
 ],
 "metadata": {
  "kernelspec": {
   "display_name": "Python 3",
   "language": "python",
   "name": "python3"
  },
  "language_info": {
   "codemirror_mode": {
    "name": "ipython",
    "version": 3
   },
   "file_extension": ".py",
   "mimetype": "text/x-python",
   "name": "python",
   "nbconvert_exporter": "python",
   "pygments_lexer": "ipython3",
   "version": "3.7.2"
  }
 },
 "nbformat": 4,
 "nbformat_minor": 2
}
